{
 "cells": [
  {
   "cell_type": "code",
   "execution_count": 19,
   "id": "d11fa006-7f7c-4c03-9a2a-623b12cf44d6",
   "metadata": {},
   "outputs": [],
   "source": [
    "import pandas as pd\n",
    "import matplotlib.pyplot as plt\n",
    "import seaborn as sns\n",
    "%matplotlib inline"
   ]
  },
  {
   "cell_type": "markdown",
   "id": "f9324a38-8022-4760-a7bb-ff0cd5968f4f",
   "metadata": {},
   "source": [
    "Reading csv file to dataframe"
   ]
  },
  {
   "cell_type": "code",
   "execution_count": 20,
   "id": "a6459e46-cb2c-40c8-b00f-c43fdcdcfbb0",
   "metadata": {},
   "outputs": [
    {
     "data": {
      "text/html": [
       "<div>\n",
       "<style scoped>\n",
       "    .dataframe tbody tr th:only-of-type {\n",
       "        vertical-align: middle;\n",
       "    }\n",
       "\n",
       "    .dataframe tbody tr th {\n",
       "        vertical-align: top;\n",
       "    }\n",
       "\n",
       "    .dataframe thead th {\n",
       "        text-align: right;\n",
       "    }\n",
       "</style>\n",
       "<table border=\"1\" class=\"dataframe\">\n",
       "  <thead>\n",
       "    <tr style=\"text-align: right;\">\n",
       "      <th></th>\n",
       "      <th>City</th>\n",
       "      <th>Date</th>\n",
       "      <th>PM2.5</th>\n",
       "      <th>PM10</th>\n",
       "      <th>NO</th>\n",
       "      <th>NO2</th>\n",
       "      <th>NOx</th>\n",
       "      <th>NH3</th>\n",
       "      <th>CO</th>\n",
       "      <th>SO2</th>\n",
       "      <th>O3</th>\n",
       "      <th>Benzene</th>\n",
       "      <th>Toluene</th>\n",
       "      <th>Xylene</th>\n",
       "      <th>AQI</th>\n",
       "      <th>AQI_Bucket</th>\n",
       "    </tr>\n",
       "  </thead>\n",
       "  <tbody>\n",
       "    <tr>\n",
       "      <th>0</th>\n",
       "      <td>Ahmedabad</td>\n",
       "      <td>2015-01-01</td>\n",
       "      <td>NaN</td>\n",
       "      <td>NaN</td>\n",
       "      <td>0.92</td>\n",
       "      <td>18.22</td>\n",
       "      <td>17.15</td>\n",
       "      <td>NaN</td>\n",
       "      <td>0.92</td>\n",
       "      <td>27.64</td>\n",
       "      <td>133.36</td>\n",
       "      <td>0.00</td>\n",
       "      <td>0.02</td>\n",
       "      <td>0.00</td>\n",
       "      <td>NaN</td>\n",
       "      <td>NaN</td>\n",
       "    </tr>\n",
       "    <tr>\n",
       "      <th>1</th>\n",
       "      <td>Ahmedabad</td>\n",
       "      <td>2015-01-02</td>\n",
       "      <td>NaN</td>\n",
       "      <td>NaN</td>\n",
       "      <td>0.97</td>\n",
       "      <td>15.69</td>\n",
       "      <td>16.46</td>\n",
       "      <td>NaN</td>\n",
       "      <td>0.97</td>\n",
       "      <td>24.55</td>\n",
       "      <td>34.06</td>\n",
       "      <td>3.68</td>\n",
       "      <td>5.50</td>\n",
       "      <td>3.77</td>\n",
       "      <td>NaN</td>\n",
       "      <td>NaN</td>\n",
       "    </tr>\n",
       "    <tr>\n",
       "      <th>2</th>\n",
       "      <td>Ahmedabad</td>\n",
       "      <td>2015-01-03</td>\n",
       "      <td>NaN</td>\n",
       "      <td>NaN</td>\n",
       "      <td>17.40</td>\n",
       "      <td>19.30</td>\n",
       "      <td>29.70</td>\n",
       "      <td>NaN</td>\n",
       "      <td>17.40</td>\n",
       "      <td>29.07</td>\n",
       "      <td>30.70</td>\n",
       "      <td>6.80</td>\n",
       "      <td>16.40</td>\n",
       "      <td>2.25</td>\n",
       "      <td>NaN</td>\n",
       "      <td>NaN</td>\n",
       "    </tr>\n",
       "    <tr>\n",
       "      <th>3</th>\n",
       "      <td>Ahmedabad</td>\n",
       "      <td>2015-01-04</td>\n",
       "      <td>NaN</td>\n",
       "      <td>NaN</td>\n",
       "      <td>1.70</td>\n",
       "      <td>18.48</td>\n",
       "      <td>17.97</td>\n",
       "      <td>NaN</td>\n",
       "      <td>1.70</td>\n",
       "      <td>18.59</td>\n",
       "      <td>36.08</td>\n",
       "      <td>4.43</td>\n",
       "      <td>10.14</td>\n",
       "      <td>1.00</td>\n",
       "      <td>NaN</td>\n",
       "      <td>NaN</td>\n",
       "    </tr>\n",
       "    <tr>\n",
       "      <th>4</th>\n",
       "      <td>Ahmedabad</td>\n",
       "      <td>2015-01-05</td>\n",
       "      <td>NaN</td>\n",
       "      <td>NaN</td>\n",
       "      <td>22.10</td>\n",
       "      <td>21.42</td>\n",
       "      <td>37.76</td>\n",
       "      <td>NaN</td>\n",
       "      <td>22.10</td>\n",
       "      <td>39.33</td>\n",
       "      <td>39.31</td>\n",
       "      <td>7.01</td>\n",
       "      <td>18.89</td>\n",
       "      <td>2.78</td>\n",
       "      <td>NaN</td>\n",
       "      <td>NaN</td>\n",
       "    </tr>\n",
       "    <tr>\n",
       "      <th>...</th>\n",
       "      <td>...</td>\n",
       "      <td>...</td>\n",
       "      <td>...</td>\n",
       "      <td>...</td>\n",
       "      <td>...</td>\n",
       "      <td>...</td>\n",
       "      <td>...</td>\n",
       "      <td>...</td>\n",
       "      <td>...</td>\n",
       "      <td>...</td>\n",
       "      <td>...</td>\n",
       "      <td>...</td>\n",
       "      <td>...</td>\n",
       "      <td>...</td>\n",
       "      <td>...</td>\n",
       "      <td>...</td>\n",
       "    </tr>\n",
       "    <tr>\n",
       "      <th>29526</th>\n",
       "      <td>Visakhapatnam</td>\n",
       "      <td>2020-06-27</td>\n",
       "      <td>15.02</td>\n",
       "      <td>50.94</td>\n",
       "      <td>7.68</td>\n",
       "      <td>25.06</td>\n",
       "      <td>19.54</td>\n",
       "      <td>12.47</td>\n",
       "      <td>0.47</td>\n",
       "      <td>8.55</td>\n",
       "      <td>23.30</td>\n",
       "      <td>2.24</td>\n",
       "      <td>12.07</td>\n",
       "      <td>0.73</td>\n",
       "      <td>41.0</td>\n",
       "      <td>Good</td>\n",
       "    </tr>\n",
       "    <tr>\n",
       "      <th>29527</th>\n",
       "      <td>Visakhapatnam</td>\n",
       "      <td>2020-06-28</td>\n",
       "      <td>24.38</td>\n",
       "      <td>74.09</td>\n",
       "      <td>3.42</td>\n",
       "      <td>26.06</td>\n",
       "      <td>16.53</td>\n",
       "      <td>11.99</td>\n",
       "      <td>0.52</td>\n",
       "      <td>12.72</td>\n",
       "      <td>30.14</td>\n",
       "      <td>0.74</td>\n",
       "      <td>2.21</td>\n",
       "      <td>0.38</td>\n",
       "      <td>70.0</td>\n",
       "      <td>Satisfactory</td>\n",
       "    </tr>\n",
       "    <tr>\n",
       "      <th>29528</th>\n",
       "      <td>Visakhapatnam</td>\n",
       "      <td>2020-06-29</td>\n",
       "      <td>22.91</td>\n",
       "      <td>65.73</td>\n",
       "      <td>3.45</td>\n",
       "      <td>29.53</td>\n",
       "      <td>18.33</td>\n",
       "      <td>10.71</td>\n",
       "      <td>0.48</td>\n",
       "      <td>8.42</td>\n",
       "      <td>30.96</td>\n",
       "      <td>0.01</td>\n",
       "      <td>0.01</td>\n",
       "      <td>0.00</td>\n",
       "      <td>68.0</td>\n",
       "      <td>Satisfactory</td>\n",
       "    </tr>\n",
       "    <tr>\n",
       "      <th>29529</th>\n",
       "      <td>Visakhapatnam</td>\n",
       "      <td>2020-06-30</td>\n",
       "      <td>16.64</td>\n",
       "      <td>49.97</td>\n",
       "      <td>4.05</td>\n",
       "      <td>29.26</td>\n",
       "      <td>18.80</td>\n",
       "      <td>10.03</td>\n",
       "      <td>0.52</td>\n",
       "      <td>9.84</td>\n",
       "      <td>28.30</td>\n",
       "      <td>0.00</td>\n",
       "      <td>0.00</td>\n",
       "      <td>0.00</td>\n",
       "      <td>54.0</td>\n",
       "      <td>Satisfactory</td>\n",
       "    </tr>\n",
       "    <tr>\n",
       "      <th>29530</th>\n",
       "      <td>Visakhapatnam</td>\n",
       "      <td>2020-07-01</td>\n",
       "      <td>15.00</td>\n",
       "      <td>66.00</td>\n",
       "      <td>0.40</td>\n",
       "      <td>26.85</td>\n",
       "      <td>14.05</td>\n",
       "      <td>5.20</td>\n",
       "      <td>0.59</td>\n",
       "      <td>2.10</td>\n",
       "      <td>17.05</td>\n",
       "      <td>NaN</td>\n",
       "      <td>NaN</td>\n",
       "      <td>NaN</td>\n",
       "      <td>50.0</td>\n",
       "      <td>Good</td>\n",
       "    </tr>\n",
       "  </tbody>\n",
       "</table>\n",
       "<p>29531 rows × 16 columns</p>\n",
       "</div>"
      ],
      "text/plain": [
       "                City        Date  PM2.5   PM10     NO    NO2    NOx    NH3  \\\n",
       "0          Ahmedabad  2015-01-01    NaN    NaN   0.92  18.22  17.15    NaN   \n",
       "1          Ahmedabad  2015-01-02    NaN    NaN   0.97  15.69  16.46    NaN   \n",
       "2          Ahmedabad  2015-01-03    NaN    NaN  17.40  19.30  29.70    NaN   \n",
       "3          Ahmedabad  2015-01-04    NaN    NaN   1.70  18.48  17.97    NaN   \n",
       "4          Ahmedabad  2015-01-05    NaN    NaN  22.10  21.42  37.76    NaN   \n",
       "...              ...         ...    ...    ...    ...    ...    ...    ...   \n",
       "29526  Visakhapatnam  2020-06-27  15.02  50.94   7.68  25.06  19.54  12.47   \n",
       "29527  Visakhapatnam  2020-06-28  24.38  74.09   3.42  26.06  16.53  11.99   \n",
       "29528  Visakhapatnam  2020-06-29  22.91  65.73   3.45  29.53  18.33  10.71   \n",
       "29529  Visakhapatnam  2020-06-30  16.64  49.97   4.05  29.26  18.80  10.03   \n",
       "29530  Visakhapatnam  2020-07-01  15.00  66.00   0.40  26.85  14.05   5.20   \n",
       "\n",
       "          CO    SO2      O3  Benzene  Toluene  Xylene   AQI    AQI_Bucket  \n",
       "0       0.92  27.64  133.36     0.00     0.02    0.00   NaN           NaN  \n",
       "1       0.97  24.55   34.06     3.68     5.50    3.77   NaN           NaN  \n",
       "2      17.40  29.07   30.70     6.80    16.40    2.25   NaN           NaN  \n",
       "3       1.70  18.59   36.08     4.43    10.14    1.00   NaN           NaN  \n",
       "4      22.10  39.33   39.31     7.01    18.89    2.78   NaN           NaN  \n",
       "...      ...    ...     ...      ...      ...     ...   ...           ...  \n",
       "29526   0.47   8.55   23.30     2.24    12.07    0.73  41.0          Good  \n",
       "29527   0.52  12.72   30.14     0.74     2.21    0.38  70.0  Satisfactory  \n",
       "29528   0.48   8.42   30.96     0.01     0.01    0.00  68.0  Satisfactory  \n",
       "29529   0.52   9.84   28.30     0.00     0.00    0.00  54.0  Satisfactory  \n",
       "29530   0.59   2.10   17.05      NaN      NaN     NaN  50.0          Good  \n",
       "\n",
       "[29531 rows x 16 columns]"
      ]
     },
     "execution_count": 20,
     "metadata": {},
     "output_type": "execute_result"
    }
   ],
   "source": [
    "airq_df = pd.read_csv('city_day.csv')\n",
    "airq_df"
   ]
  },
  {
   "cell_type": "code",
   "execution_count": 21,
   "id": "f1decf2a-64b3-4f73-b3ab-6f21e6f43636",
   "metadata": {},
   "outputs": [
    {
     "name": "stdout",
     "output_type": "stream",
     "text": [
      "<class 'pandas.core.frame.DataFrame'>\n",
      "RangeIndex: 29531 entries, 0 to 29530\n",
      "Data columns (total 16 columns):\n",
      " #   Column      Non-Null Count  Dtype  \n",
      "---  ------      --------------  -----  \n",
      " 0   City        29531 non-null  object \n",
      " 1   Date        29531 non-null  object \n",
      " 2   PM2.5       24933 non-null  float64\n",
      " 3   PM10        18391 non-null  float64\n",
      " 4   NO          25949 non-null  float64\n",
      " 5   NO2         25946 non-null  float64\n",
      " 6   NOx         25346 non-null  float64\n",
      " 7   NH3         19203 non-null  float64\n",
      " 8   CO          27472 non-null  float64\n",
      " 9   SO2         25677 non-null  float64\n",
      " 10  O3          25509 non-null  float64\n",
      " 11  Benzene     23908 non-null  float64\n",
      " 12  Toluene     21490 non-null  float64\n",
      " 13  Xylene      11422 non-null  float64\n",
      " 14  AQI         24850 non-null  float64\n",
      " 15  AQI_Bucket  24850 non-null  object \n",
      "dtypes: float64(13), object(3)\n",
      "memory usage: 3.6+ MB\n"
     ]
    }
   ],
   "source": [
    "airq_df.info()"
   ]
  },
  {
   "cell_type": "markdown",
   "id": "2a54724f-7486-4b17-965f-deea58ddcfff",
   "metadata": {},
   "source": [
    "Coverting 'Date' columns to Date Format"
   ]
  },
  {
   "cell_type": "code",
   "execution_count": 22,
   "id": "05c7527b-dce6-4360-8898-0814315419d7",
   "metadata": {},
   "outputs": [],
   "source": [
    "airq_df['Date'] = pd.to_datetime(airq_df['Date'])"
   ]
  },
  {
   "cell_type": "markdown",
   "id": "bf0162bf-afdf-4b02-aee9-1be5172d7b5e",
   "metadata": {},
   "source": [
    "Extracting columns Year, Month, Day, Weekday from column 'Date' & insertion"
   ]
  },
  {
   "cell_type": "code",
   "execution_count": 23,
   "id": "69a7f9a6-faf5-44ee-b0c6-75fab0e7cd10",
   "metadata": {},
   "outputs": [],
   "source": [
    "airq_df.insert(loc = 2, column = 'Year', value = pd.DatetimeIndex(airq_df.Date).year)\n",
    "airq_df.insert(loc = 3, column = 'Month', value = pd.DatetimeIndex(airq_df.Date).month)\n",
    "airq_df.insert(loc = 4, column = 'Day', value = pd.DatetimeIndex(airq_df.Date).day)\n",
    "airq_df.insert(loc = 5, column = 'Weekday', value = pd.DatetimeIndex(airq_df.Date).weekday)"
   ]
  },
  {
   "cell_type": "markdown",
   "id": "affb7453-8b07-444e-9392-204ea2b8c490",
   "metadata": {},
   "source": [
    "Creating dataframe for 'Delhi Analysis'"
   ]
  },
  {
   "cell_type": "code",
   "execution_count": null,
   "id": "8fdc4d19-4f41-4a4f-837b-430353a2cb47",
   "metadata": {},
   "outputs": [],
   "source": [
    "delhi_df = airq_df[airq_df.City == 'Delhi']\n",
    "delhi_df.info()"
   ]
  },
  {
   "cell_type": "markdown",
   "id": "3f5fdd15-8a9d-413a-9edb-d2d7084c6f47",
   "metadata": {},
   "source": [
    "Monthly AQI & Pollutants Analysis"
   ]
  },
  {
   "cell_type": "code",
   "execution_count": null,
   "id": "7a97169f-a116-4f02-a324-7790ba4078d8",
   "metadata": {},
   "outputs": [],
   "source": [
    "delhi_df.groupby('Month')['AQI'].mean()"
   ]
  },
  {
   "cell_type": "code",
   "execution_count": null,
   "id": "87c7a2f0-109d-4f0f-8a3c-5c177aafd534",
   "metadata": {},
   "outputs": [],
   "source": [
    "import calendar as cld\n",
    "month_name = []\n",
    "for month in delhi_df.Month.unique():\n",
    "    month_name.append(cld.month_abbr[month])\n",
    "    \n",
    "\n",
    "plt.rcParams['figure.figsize'] = (12,7)\n",
    "sns.set_style('whitegrid')\n",
    "columns1 = ['PM2.5','PM10','AQI']\n",
    "for column in columns1:\n",
    "        plt.plot( month_name,delhi_df.groupby('Month')[column].mean(), marker = 'o', label = column)\n",
    "plt.legend()\n",
    "plt.xlabel('Month')\n",
    "plt.ylabel('Mean AQI')\n",
    "sns.set_style('whitegrid')"
   ]
  },
  {
   "cell_type": "markdown",
   "id": "d80e1df7-0b1b-426f-94b5-83b343596cac",
   "metadata": {},
   "source": [
    "Monthly Pollutants Analysis"
   ]
  },
  {
   "cell_type": "code",
   "execution_count": null,
   "id": "0cf6aa02-0b72-432e-bc17-7557f7e4dc38",
   "metadata": {},
   "outputs": [],
   "source": [
    "#from labellines import labelLines\n",
    "#import matplotx\n",
    "columns2 = ['NO','NO2','NOx','NH3','SO2','O3','Toluene','Xylene', 'CO','Benzene']\n",
    "plt.rcParams['figure.figsize'] = (12,7)\n",
    "for column in columns2:\n",
    "    if(column in ['CO','Benzene','Xylene']):\n",
    "        plt.plot( month_name,delhi_df.groupby('Month')[column].mean(), marker = 'X', label = column, ls = '--')\n",
    "    else:\n",
    "        plt.plot( month_name,delhi_df.groupby('Month')[column].mean(), marker = 'o', label = column)\n",
    "plt.legend()\n",
    "plt.xlabel('Month')\n",
    "plt.ylabel('Mean AQI')\n",
    "#labelLines(plt.gca().get_lines(), zorder=2.5)\n",
    "#matplotx.line_labels()"
   ]
  },
  {
   "cell_type": "markdown",
   "id": "aafc775e-769f-4d57-8df3-00f73c966c99",
   "metadata": {},
   "source": [
    "Month Analysis Per Year"
   ]
  },
  {
   "cell_type": "code",
   "execution_count": null,
   "id": "ef64b350-c282-4be3-940f-1e470aa0ff98",
   "metadata": {},
   "outputs": [],
   "source": [
    "delhi_df.groupby(['Month','Year'])['AQI'].mean().unstack().plot(\n",
    "    xlabel = 'Month', ylabel = 'Mean AQI', figsize = (16, 10), marker = 'X');"
   ]
  },
  {
   "cell_type": "markdown",
   "id": "21463043-bde7-4f3d-8b5f-cb077b0856ea",
   "metadata": {},
   "source": [
    "Analysis - PM2.5 & PM10 relationship with AQI"
   ]
  },
  {
   "cell_type": "code",
   "execution_count": null,
   "id": "720b13f3-119c-473e-8efe-3195d5ea9993",
   "metadata": {},
   "outputs": [],
   "source": [
    "for column in ['PM2.5','PM10']:\n",
    "     sns.regplot(x=delhi_df.groupby('Month')['AQI'].mean(), y = delhi_df.groupby(['Month'])[column].mean(), label = column, scatter=True)\n",
    "        #sns.scatterplot(x=delhi_df.groupby(['Month'])['AQI'].mean(), y = delhi_df.groupby(['Month'])[column].mean(), s=100, label = column)\n",
    "plt.ylabel('Particulate Matter')\n",
    "plt.legend();"
   ]
  },
  {
   "cell_type": "markdown",
   "id": "15f805c4-f297-4b21-92d3-32dea1e7a331",
   "metadata": {},
   "source": [
    "Analysis - Other Pollutants relationship with AQI"
   ]
  },
  {
   "cell_type": "code",
   "execution_count": null,
   "id": "85ed1975-af05-461d-86c0-4a4f31b4b5c7",
   "metadata": {},
   "outputs": [],
   "source": [
    "for column in columns2:\n",
    "    #sns.scatterplot(x=delhi_df.groupby(['Month'])['AQI'].mean(), y = delhi_df.groupby(['Month'])[column].mean(), s=100, label = column)\n",
    "    sns.regplot(x=delhi_df.groupby('Month')['AQI'].mean(), y = delhi_df.groupby(['Month'])[column].mean(), label = column, scatter=False)\n",
    "plt.ylabel('Pollutants')\n",
    "plt.legend();"
   ]
  },
  {
   "cell_type": "markdown",
   "id": "e0b4bd0c-fed2-45d6-8f11-5c4d02feb37c",
   "metadata": {},
   "source": [
    "Persistent AQI scores"
   ]
  },
  {
   "cell_type": "code",
   "execution_count": null,
   "id": "d6e821a6-2ca9-468d-929a-39b1d4dc00cc",
   "metadata": {},
   "outputs": [],
   "source": [
    "plt.hist(delhi_df.AQI);"
   ]
  },
  {
   "cell_type": "markdown",
   "id": "95b2ea37-098c-4b5e-8469-a13ee4eb04a5",
   "metadata": {},
   "source": [
    "Daywise AQI Analysis"
   ]
  },
  {
   "cell_type": "code",
   "execution_count": null,
   "id": "854c62bb-7205-4ed6-b9d4-084ef9a74917",
   "metadata": {},
   "outputs": [],
   "source": [
    "g = sns.barplot(x = 'Weekday' , y = 'AQI', data = delhi_df, color = 'blue');\n",
    "sns.lineplot(x = 'Weekday', y = 'AQI', data = delhi_df, color = 'red');\n",
    "plt.ylabel('Mean AQI');\n",
    "plt.xlabel('Day of Week');\n",
    "g.set_xticklabels(list(cld.day_name));"
   ]
  },
  {
   "cell_type": "code",
   "execution_count": null,
   "id": "00538947-62c7-4a6b-a288-ea1f0e377b72",
   "metadata": {},
   "outputs": [],
   "source": []
  },
  {
   "cell_type": "code",
   "execution_count": null,
   "id": "ce9648d0-c75f-4636-ac5f-2d43c81726b9",
   "metadata": {},
   "outputs": [],
   "source": []
  }
 ],
 "metadata": {
  "kernelspec": {
   "display_name": "Python 3 (ipykernel)",
   "language": "python",
   "name": "python3"
  },
  "language_info": {
   "codemirror_mode": {
    "name": "ipython",
    "version": 3
   },
   "file_extension": ".py",
   "mimetype": "text/x-python",
   "name": "python",
   "nbconvert_exporter": "python",
   "pygments_lexer": "ipython3",
   "version": "3.10.5"
  }
 },
 "nbformat": 4,
 "nbformat_minor": 5
}
